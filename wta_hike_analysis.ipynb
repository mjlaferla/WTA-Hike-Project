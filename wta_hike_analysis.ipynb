{
 "cells": [
  {
   "cell_type": "code",
   "execution_count": 1,
   "metadata": {},
   "outputs": [],
   "source": [
    "import pandas as pd\n",
    "import matplotlib.pyplot as plt\n",
    "import seaborn as sns\n",
    "import json\n",
    "import numpy as np\n",
    "from pandas.io.json import json_normalize"
   ]
  },
  {
   "cell_type": "code",
   "execution_count": 2,
   "metadata": {},
   "outputs": [],
   "source": [
    "#load csv with results from webscraper\n",
    "df_hikes = pd.read_csv('Downloads/Datasets/wta_hikes.csv')\n",
    "\n",
    "#load json object\n",
    "with open('Downloads/Datasets/wta-parks-data.json') as f:\n",
    "    df_hikes2 = json.load(f)\n",
    "    \n",
    "#normalize coordinates\n",
    "df_hikes2 = json_normalize(df_hikes2)\n",
    "\n",
    "#merge the two data sources\n",
    "df = df_hikes.merge(df_hikes2, left_on='TITLE', right_on='name', how='left')"
   ]
  },
  {
   "cell_type": "code",
   "execution_count": 3,
   "metadata": {},
   "outputs": [],
   "source": [
    "#clean the dataframe by dropping duplicate and unneeded columns\n",
    "df.drop(columns=['Unnamed: 0', 'Unnamed: 0.1', 'elevation.Gain', 'name', 'length', 'url', 'elevation.Highest Point'], axis=1, inplace=True)\n",
    "\n",
    "#renaming columns and making them all uniform\n",
    "cols = ['title', 'region', 'distance', 'hike_type', 'elevation_gain', 'highest_point', 'rating',\n",
    "        'rating_count', 'report_date', 'report_count', 'link', 'latitude', 'longitude', 'features',\n",
    "        'required_pass']\n",
    "\n",
    "df.columns = cols\n",
    "\n",
    "#reorder columns\n",
    "df = df[['title', 'region', 'distance', 'hike_type', 'elevation_gain', 'highest_point', 'features',\n",
    "         'rating', 'rating_count', 'report_date', 'report_count', 'required_pass', 'latitude', \n",
    "         'longitude', 'link']]\n",
    "\n",
    "#replace all none values as NaN\n",
    "df.fillna(value=pd.np.nan, inplace=True)\n",
    "\n",
    "#filter out duplicates with the same name and same region\n",
    "df.drop_duplicates(['title', 'region'], keep='first', inplace=True)\n",
    "\n",
    "#double the distance of all of the one-way hikes\n",
    "df['distance'] = np.where(df['hike_type'] == 'one-way', df['distance'].astype(float)*2, df['distance'])\n",
    "\n",
    "#replace one-way with roundtrip\n",
    "df['hike_type'] = df['hike_type'].replace({'one-way':'roundtrip'})"
   ]
  },
  {
   "cell_type": "code",
   "execution_count": 4,
   "metadata": {},
   "outputs": [
    {
     "name": "stdout",
     "output_type": "stream",
     "text": [
      "Index(['title', 'region', 'distance', 'hike_type', 'elevation_gain',\n",
      "       'highest_point', 'features', 'rating', 'rating_count', 'report_date',\n",
      "       'report_count', 'required_pass', 'latitude', 'longitude', 'link'],\n",
      "      dtype='object')\n",
      "\n",
      "title              object\n",
      "region             object\n",
      "distance          float64\n",
      "hike_type          object\n",
      "elevation_gain    float64\n",
      "highest_point     float64\n",
      "features           object\n",
      "rating            float64\n",
      "rating_count        int64\n",
      "report_date        object\n",
      "report_count        int64\n",
      "required_pass      object\n",
      "latitude           object\n",
      "longitude          object\n",
      "link               object\n",
      "dtype: object\n",
      "\n",
      "title 0\n",
      "region 0\n",
      "distance 154\n",
      "hike_type 154\n",
      "elevation_gain 532\n",
      "highest_point 441\n",
      "features 506\n",
      "rating 0\n",
      "rating_count 0\n",
      "report_date 50\n",
      "report_count 0\n",
      "required_pass 1093\n",
      "latitude 764\n",
      "longitude 764\n",
      "link 0\n"
     ]
    }
   ],
   "source": [
    "# Get column names\n",
    "column_names = df.columns\n",
    "print(column_names)\n",
    "print(\"\")\n",
    "\n",
    "# Get column data types\n",
    "print(df.dtypes)\n",
    "print(\"\")\n",
    "\n",
    "#checking how many columns are null\n",
    "for col in df.columns:\n",
    "    print(col, df[col].isnull().sum())"
   ]
  },
  {
   "cell_type": "code",
   "execution_count": 5,
   "metadata": {},
   "outputs": [
    {
     "data": {
      "text/html": [
       "<div>\n",
       "<style scoped>\n",
       "    .dataframe tbody tr th:only-of-type {\n",
       "        vertical-align: middle;\n",
       "    }\n",
       "\n",
       "    .dataframe tbody tr th {\n",
       "        vertical-align: top;\n",
       "    }\n",
       "\n",
       "    .dataframe thead th {\n",
       "        text-align: right;\n",
       "    }\n",
       "</style>\n",
       "<table border=\"1\" class=\"dataframe\">\n",
       "  <thead>\n",
       "    <tr style=\"text-align: right;\">\n",
       "      <th></th>\n",
       "      <th>region</th>\n",
       "      <th>count</th>\n",
       "    </tr>\n",
       "  </thead>\n",
       "  <tbody>\n",
       "    <tr>\n",
       "      <th>5</th>\n",
       "      <td>North Cascades</td>\n",
       "      <td>398</td>\n",
       "    </tr>\n",
       "    <tr>\n",
       "      <th>7</th>\n",
       "      <td>Puget Sound and Islands</td>\n",
       "      <td>299</td>\n",
       "    </tr>\n",
       "    <tr>\n",
       "      <th>0</th>\n",
       "      <td>Central Cascades</td>\n",
       "      <td>295</td>\n",
       "    </tr>\n",
       "    <tr>\n",
       "      <th>8</th>\n",
       "      <td>Snoqualmie Region</td>\n",
       "      <td>258</td>\n",
       "    </tr>\n",
       "    <tr>\n",
       "      <th>6</th>\n",
       "      <td>Olympic Peninsula</td>\n",
       "      <td>256</td>\n",
       "    </tr>\n",
       "    <tr>\n",
       "      <th>9</th>\n",
       "      <td>South Cascades</td>\n",
       "      <td>203</td>\n",
       "    </tr>\n",
       "    <tr>\n",
       "      <th>4</th>\n",
       "      <td>Mount Rainier Area</td>\n",
       "      <td>198</td>\n",
       "    </tr>\n",
       "    <tr>\n",
       "      <th>2</th>\n",
       "      <td>Eastern Washington</td>\n",
       "      <td>188</td>\n",
       "    </tr>\n",
       "    <tr>\n",
       "      <th>10</th>\n",
       "      <td>Southwest Washington</td>\n",
       "      <td>157</td>\n",
       "    </tr>\n",
       "    <tr>\n",
       "      <th>1</th>\n",
       "      <td>Central Washington</td>\n",
       "      <td>118</td>\n",
       "    </tr>\n",
       "    <tr>\n",
       "      <th>3</th>\n",
       "      <td>Issaquah Alps</td>\n",
       "      <td>115</td>\n",
       "    </tr>\n",
       "  </tbody>\n",
       "</table>\n",
       "</div>"
      ],
      "text/plain": [
       "                     region  count\n",
       "5            North Cascades    398\n",
       "7   Puget Sound and Islands    299\n",
       "0          Central Cascades    295\n",
       "8         Snoqualmie Region    258\n",
       "6         Olympic Peninsula    256\n",
       "9            South Cascades    203\n",
       "4        Mount Rainier Area    198\n",
       "2        Eastern Washington    188\n",
       "10     Southwest Washington    157\n",
       "1        Central Washington    118\n",
       "3             Issaquah Alps    115"
      ]
     },
     "execution_count": 5,
     "metadata": {},
     "output_type": "execute_result"
    }
   ],
   "source": [
    "#groupby region\n",
    "num_hikes_per_region = df.groupby(['region'])['title'].count().reset_index(name='count')\n",
    "num_hikes_per_region.sort_values(by=['count'], ascending=False, inplace=True)\n",
    "\n",
    "num_hikes_per_region"
   ]
  },
  {
   "cell_type": "code",
   "execution_count": 6,
   "metadata": {},
   "outputs": [
    {
     "data": {
      "text/plain": [
       "Text(0.5, 1.0, 'Number of Hikes in Washington State by Region')"
      ]
     },
     "execution_count": 6,
     "metadata": {},
     "output_type": "execute_result"
    },
    {
     "data": {
      "image/png": "[encoded data removed]",
      "text/plain": [
       "<Figure size 864x576 with 1 Axes>"
      ]
     },
     "metadata": {
      "needs_background": "light"
     },
     "output_type": "display_data"
    }
   ],
   "source": [
    "#set plot\n",
    "f, ax = plt.subplots(figsize=(12, 8))\n",
    "\n",
    "#render a bar plot of the data grouped by region\n",
    "sns.barplot(x='count', y='region', data=num_hikes_per_region, palette=\"Blues_d\")\n",
    "\n",
    "#set labels\n",
    "ax.set(xlabel='Number of Hikes', ylabel='Region')\n",
    "ax.set_title('Number of Hikes in Washington State by Region')"
   ]
  },
  {
   "cell_type": "code",
   "execution_count": 7,
   "metadata": {},
   "outputs": [
    {
     "data": {
      "text/plain": [
       "count    2485.000000\n",
       "mean        7.757344\n",
       "std        18.164159\n",
       "min         0.000000\n",
       "25%         1.000000\n",
       "50%         4.000000\n",
       "75%         7.000000\n",
       "max       310.000000\n",
       "Name: rating_count, dtype: float64"
      ]
     },
     "execution_count": 7,
     "metadata": {},
     "output_type": "execute_result"
    },
    {
     "data": {
      "image/png": "[encoded data removed]",
      "text/plain": [
       "<Figure size 432x288 with 1 Axes>"
      ]
     },
     "metadata": {
      "needs_background": "light"
     },
     "output_type": "display_data"
    }
   ],
   "source": [
    "#plot the distribution of rating_count\n",
    "sns.distplot(df['rating_count'], kde=False, rug=True)\n",
    "\n",
    "#summary statistics for rating_count\n",
    "df['rating_count'].describe()"
   ]
  },
  {
   "cell_type": "code",
   "execution_count": 8,
   "metadata": {},
   "outputs": [
    {
     "data": {
      "text/plain": [
       "count    2485.000000\n",
       "mean       64.378270\n",
       "std       151.865852\n",
       "min         0.000000\n",
       "25%         5.000000\n",
       "50%        17.000000\n",
       "75%        57.000000\n",
       "max      1858.000000\n",
       "Name: report_count, dtype: float64"
      ]
     },
     "execution_count": 8,
     "metadata": {},
     "output_type": "execute_result"
    },
    {
     "data": {
      "image/png": "[encoded data removed]",
      "text/plain": [
       "<Figure size 432x288 with 1 Axes>"
      ]
     },
     "metadata": {
      "needs_background": "light"
     },
     "output_type": "display_data"
    }
   ],
   "source": [
    "#plot the distribution of report_count\n",
    "sns.distplot(df['report_count'], kde=False, rug=True, color='g')\n",
    "\n",
    "#summary statistics for report_count\n",
    "df['report_count'].describe()"
   ]
  },
  {
   "cell_type": "code",
   "execution_count": 9,
   "metadata": {},
   "outputs": [
    {
     "name": "stdout",
     "output_type": "stream",
     "text": [
      "-8.0\n",
      "16.0\n"
     ]
    }
   ],
   "source": [
    "#sort the data by rating_count in increasing order\n",
    "sorted_rating = sorted(df['rating_count'])\n",
    "\n",
    "#finding first and third quatiles and using them to calculate the interquartile range\n",
    "rating_q1, rating_q3= np.percentile(df['rating_count'],[25,75])\n",
    "rating_iqr = rating_q3 - rating_q1\n",
    "\n",
    "#establishing upper and lower bounds to identify outliers\n",
    "rating_lower_bound = rating_q1 -(1.5 * rating_iqr) \n",
    "rating_upper_bound = rating_q3 +(1.5 * rating_iqr)\n",
    "\n",
    "print(rating_lower_bound)\n",
    "print(rating_upper_bound)"
   ]
  },
  {
   "cell_type": "code",
   "execution_count": 10,
   "metadata": {},
   "outputs": [
    {
     "name": "stdout",
     "output_type": "stream",
     "text": [
      "-73.0\n",
      "135.0\n"
     ]
    }
   ],
   "source": [
    "#sort the data by rating_count in increasing order\n",
    "sorted_report = sorted(df['report_count'])\n",
    "\n",
    "#finding first and third quatiles and using them to calculate the interquartile range\n",
    "report_q1, report_q3= np.percentile(df['report_count'],[25,75])\n",
    "report_iqr = report_q3 - report_q1\n",
    "\n",
    "#establishing upper and lower bounds to identify outliers\n",
    "report_lower_bound = report_q1 -(1.5 * report_iqr) \n",
    "report_upper_bound = report_q3 +(1.5 * report_iqr)\n",
    "\n",
    "print(report_lower_bound)\n",
    "print(report_upper_bound)"
   ]
  },
  {
   "cell_type": "code",
   "execution_count": 11,
   "metadata": {},
   "outputs": [
    {
     "data": {
      "text/html": [
       "<div>\n",
       "<style scoped>\n",
       "    .dataframe tbody tr th:only-of-type {\n",
       "        vertical-align: middle;\n",
       "    }\n",
       "\n",
       "    .dataframe tbody tr th {\n",
       "        vertical-align: top;\n",
       "    }\n",
       "\n",
       "    .dataframe thead th {\n",
       "        text-align: right;\n",
       "    }\n",
       "</style>\n",
       "<table border=\"1\" class=\"dataframe\">\n",
       "  <thead>\n",
       "    <tr style=\"text-align: right;\">\n",
       "      <th></th>\n",
       "      <th>popularity</th>\n",
       "      <th>count</th>\n",
       "    </tr>\n",
       "  </thead>\n",
       "  <tbody>\n",
       "    <tr>\n",
       "      <th>0</th>\n",
       "      <td>1.0</td>\n",
       "      <td>612</td>\n",
       "    </tr>\n",
       "    <tr>\n",
       "      <th>1</th>\n",
       "      <td>2.0</td>\n",
       "      <td>608</td>\n",
       "    </tr>\n",
       "    <tr>\n",
       "      <th>2</th>\n",
       "      <td>3.0</td>\n",
       "      <td>645</td>\n",
       "    </tr>\n",
       "    <tr>\n",
       "      <th>3</th>\n",
       "      <td>4.0</td>\n",
       "      <td>338</td>\n",
       "    </tr>\n",
       "    <tr>\n",
       "      <th>4</th>\n",
       "      <td>5.0</td>\n",
       "      <td>282</td>\n",
       "    </tr>\n",
       "  </tbody>\n",
       "</table>\n",
       "</div>"
      ],
      "text/plain": [
       "   popularity  count\n",
       "0         1.0    612\n",
       "1         2.0    608\n",
       "2         3.0    645\n",
       "3         4.0    338\n",
       "4         5.0    282"
      ]
     },
     "execution_count": 11,
     "metadata": {},
     "output_type": "execute_result"
    }
   ],
   "source": [
    "#set conditions to evaluate popularity using outlier bounds as well as quartiles as ranking criteria\n",
    "\n",
    "#5 star popularity\n",
    "df.loc[(df['report_count'] >= report_upper_bound), 'popularity'] = 5 \n",
    "\n",
    "#4 star popularity\n",
    "df.loc[(df['report_count'] < report_upper_bound) & (df['report_count'] >= 58), 'popularity'] = 4\n",
    "\n",
    "#3 star popularity\n",
    "df.loc[(df['report_count'] < 58) & (df['report_count'] >= 17), \n",
    "       'popularity'] = 3\n",
    "\n",
    "#2 star popularity\n",
    "df.loc[(df['report_count'] < 17) & (df['report_count'] >= 5),\n",
    "       'popularity'] = 2\n",
    "\n",
    "#1 star popularity\n",
    "df.loc[(df['report_count'] < 5), 'popularity'] = 1\n",
    "\n",
    "#group by popularity\n",
    "df.groupby(['popularity'])['title'].count().reset_index(name='count')"
   ]
  },
  {
   "cell_type": "code",
   "execution_count": 14,
   "metadata": {},
   "outputs": [],
   "source": [
    "#write to csv\n",
    "df.to_csv('washington_hikes.csv')"
   ]
  }
 ],
 "metadata": {
  "kernelspec": {
   "display_name": "Python 3",
   "language": "python",
   "name": "python3"
  },
  "language_info": {
   "codemirror_mode": {
    "name": "ipython",
    "version": 3
   },
   "file_extension": ".py",
   "mimetype": "text/x-python",
   "name": "python",
   "nbconvert_exporter": "python",
   "pygments_lexer": "ipython3",
   "version": "3.7.3"
  }
 },
 "nbformat": 4,
 "nbformat_minor": 2
}
